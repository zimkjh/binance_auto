{
 "cells": [
  {
   "cell_type": "code",
   "execution_count": 67,
   "id": "905a1cdf",
   "metadata": {},
   "outputs": [],
   "source": [
    "# !pip install ccxt\n",
    "# !pip install slacker\n",
    "import ccxt\n",
    "import pprint\n",
    "from datetime import datetime\n",
    "from slacker import Slacker"
   ]
  },
  {
   "cell_type": "code",
   "execution_count": 71,
   "id": "93536e30",
   "metadata": {},
   "outputs": [],
   "source": [
    "# 파일로부터 apiKey, Secret 읽기 \n",
    "with open(\"apiKey_ham.txt\") as f:\n",
    "    lines = f.readlines()\n",
    "    apiKey = lines[0].strip() \n",
    "    secret = lines[1].strip() \n",
    "    slackToken = lines[2].strip()"
   ]
  },
  {
   "cell_type": "code",
   "execution_count": 74,
   "id": "af682001",
   "metadata": {},
   "outputs": [],
   "source": [
    "slack = Slacker(slackToken)\n",
    "binance = ccxt.binance()"
   ]
  },
  {
   "cell_type": "code",
   "execution_count": null,
   "id": "ae3e7317",
   "metadata": {},
   "outputs": [],
   "source": [
    "# 슬랙 메세지 보내기\n",
    "# slack.chat.post_message('#autostock','hi bum!')"
   ]
  },
  {
   "cell_type": "code",
   "execution_count": null,
   "id": "6660f4d4",
   "metadata": {},
   "outputs": [],
   "source": [
    "# 티커들 조회\n",
    "markets = binance.fetch_tickers()\n",
    "print(markets.keys())"
   ]
  },
  {
   "cell_type": "code",
   "execution_count": 15,
   "id": "1f770650",
   "metadata": {},
   "outputs": [
    {
     "name": "stdout",
     "output_type": "stream",
     "text": [
      "3856.03 3971.0 3803.56 3879.13\n"
     ]
    }
   ],
   "source": [
    "# 현재가 조회\n",
    "ticker = binance.fetch_ticker('ETH/USDT')\n",
    "print(ticker['open'], ticker['high'], ticker['low'], ticker['close'])"
   ]
  },
  {
   "cell_type": "code",
   "execution_count": 20,
   "id": "121e4543",
   "metadata": {},
   "outputs": [],
   "source": [
    "# 과거 데이터 조회\n",
    "ohlcvs = binance.fetch_ohlcv('ETH/USDT')\n",
    "# for ohlc in ohlcvs:\n",
    "#     print(datetime.fromtimestamp(ohlc[0]/1000).strftime('%Y-%m-%d %H:%M:%S'))"
   ]
  },
  {
   "cell_type": "markdown",
   "id": "feefc72e",
   "metadata": {},
   "source": [
    "---"
   ]
  },
  {
   "cell_type": "code",
   "execution_count": 75,
   "id": "c450d5a2",
   "metadata": {},
   "outputs": [
    {
     "name": "stdout",
     "output_type": "stream",
     "text": [
      "{'free': 80.2898479, 'used': 0.76103315, 'total': 80.967141}\n"
     ]
    }
   ],
   "source": [
    "# 선물 잔고 조회\n",
    "# free : 보유중, used : 거래진행중, \n",
    "binance = ccxt.binance({\n",
    "    'apiKey': apiKey,\n",
    "    'secret': secret,\n",
    "    'enableRateLimit': True,\n",
    "    'options': {\n",
    "        'defaultType': 'future'\n",
    "    }\n",
    "})\n",
    "balance = binance.fetch_balance(params={\"type\": \"future\"})\n",
    "print(balance['USDT'])"
   ]
  },
  {
   "cell_type": "markdown",
   "id": "be026051",
   "metadata": {},
   "source": [
    "---"
   ]
  },
  {
   "cell_type": "code",
   "execution_count": 19,
   "id": "e973d508",
   "metadata": {},
   "outputs": [],
   "source": [
    "def showDateTime(dateTime):\n",
    "    return datetime.fromtimestamp(dateTime/1000).strftime('%Y-%m-%d %H:%M:%S')"
   ]
  },
  {
   "cell_type": "code",
   "execution_count": 25,
   "id": "7bc36876",
   "metadata": {
    "scrolled": true
   },
   "outputs": [
    {
     "name": "stdout",
     "output_type": "stream",
     "text": [
      "2021-10-17 22:50:00 [3856.91, 3857.28, 3850.42, 3854.45, 2493.038]\n",
      "2021-10-17 22:55:00 [3854.52, 3865.45, 3853.96, 3864.68, 4092.774]\n",
      "2021-10-17 23:00:00 [3864.68, 3868.26, 3858.48, 3864.62, 3955.104]\n",
      "2021-10-17 23:05:00 [3864.62, 3867.22, 3857.8, 3859.89, 2466.924]\n",
      "2021-10-17 23:10:00 [3859.9, 3860.96, 3854.25, 3855.39, 1815.433]\n",
      "2021-10-17 23:15:00 [3855.42, 3863.05, 3855.23, 3860.64, 2854.67]\n",
      "2021-10-17 23:20:00 [3860.63, 3864.06, 3855.1, 3855.11, 1695.829]\n",
      "2021-10-17 23:25:00 [3855.1, 3855.11, 3848.0, 3848.86, 3631.184]\n",
      "2021-10-17 23:30:00 [3848.96, 3856.74, 3846.7, 3856.67, 2652.491]\n",
      "2021-10-17 23:35:00 [3856.68, 3856.98, 3853.59, 3853.87, 172.06]\n"
     ]
    }
   ],
   "source": [
    "# ohlcv\n",
    "eth5m = binance.fetch_ohlcv(\n",
    "    symbol=\"ETH/USDT\", \n",
    "    timeframe='5m', \n",
    "    since=None, \n",
    "    limit=10)\n",
    "for e in eth5m:\n",
    "    print(showDateTime(e[0]), e[1:])"
   ]
  },
  {
   "cell_type": "markdown",
   "id": "dd2ef238",
   "metadata": {},
   "source": [
    "---"
   ]
  },
  {
   "cell_type": "code",
   "execution_count": 33,
   "id": "299569b6",
   "metadata": {},
   "outputs": [
    {
     "name": "stdout",
     "output_type": "stream",
     "text": [
      "{'amount': 0.002,\n",
      " 'average': 3849.86,\n",
      " 'clientOrderId': 'x-xcKtGhcu27a24d72355b4a0c810ef1',\n",
      " 'cost': 7.69972,\n",
      " 'datetime': None,\n",
      " 'fee': None,\n",
      " 'fees': [],\n",
      " 'filled': 0.002,\n",
      " 'id': '8389765509100861083',\n",
      " 'info': {'avgPrice': '3849.86000',\n",
      "          'clientOrderId': 'x-xcKtGhcu27a24d72355b4a0c810ef1',\n",
      "          'closePosition': False,\n",
      "          'cumQty': '0.002',\n",
      "          'cumQuote': '7.69972',\n",
      "          'executedQty': '0.002',\n",
      "          'orderId': '8389765509100861083',\n",
      "          'origQty': '0.002',\n",
      "          'origType': 'MARKET',\n",
      "          'positionSide': 'BOTH',\n",
      "          'price': '0',\n",
      "          'priceProtect': False,\n",
      "          'reduceOnly': False,\n",
      "          'side': 'BUY',\n",
      "          'status': 'FILLED',\n",
      "          'stopPrice': '0',\n",
      "          'symbol': 'ETHUSDT',\n",
      "          'timeInForce': 'GTC',\n",
      "          'type': 'MARKET',\n",
      "          'updateTime': '1634482056016',\n",
      "          'workingType': 'CONTRACT_PRICE'},\n",
      " 'lastTradeTimestamp': None,\n",
      " 'postOnly': False,\n",
      " 'price': 3849.86,\n",
      " 'remaining': 0.0,\n",
      " 'side': 'buy',\n",
      " 'status': 'closed',\n",
      " 'stopPrice': None,\n",
      " 'symbol': 'ETH/USDT',\n",
      " 'timeInForce': 'GTC',\n",
      " 'timestamp': None,\n",
      " 'trades': [],\n",
      " 'type': 'market'}\n"
     ]
    }
   ],
   "source": [
    "# 매수 매도\n",
    "order = binance.create_market_buy_order(\n",
    "    symbol=\"ETH/USDT\",\n",
    "    amount=0.002, \n",
    ")\n",
    "pprint.pprint(order)\n",
    " \n",
    "# order = binance.create_market_sell_order(\n",
    "#     symbol=\"ETH/USDT\",\n",
    "#     amount=0.002, \n",
    "# )\n",
    "# pprint.pprint(order)\n"
   ]
  },
  {
   "cell_type": "code",
   "execution_count": 78,
   "id": "95880f48",
   "metadata": {},
   "outputs": [
    {
     "name": "stdout",
     "output_type": "stream",
     "text": [
      "{'symbol': 'ETHUSDT', 'initialMargin': '0.76107348', 'maintMargin': '0.03805367', 'unrealizedProfit': '-0.08898516', 'positionInitialMargin': '0.76107348', 'openOrderInitialMargin': '0', 'leverage': '10', 'isolated': True, 'entryPrice': '3849.86', 'maxNotional': '4000000', 'positionSide': 'BOTH', 'positionAmt': '0.002', 'notional': '7.61073483', 'isolatedWallet': '0.76668155', 'updateTime': '1634486400385'}\n"
     ]
    }
   ],
   "source": [
    "# 현재 포지션 확인\n",
    "balance = binance.fetch_balance()\n",
    "position = [x for x in balance['info']['positions'] if x['symbol'] == \"ETHUSDT\"][0]\n",
    "print(position)"
   ]
  },
  {
   "cell_type": "code",
   "execution_count": 60,
   "id": "25fdcf47",
   "metadata": {},
   "outputs": [
    {
     "name": "stdout",
     "output_type": "stream",
     "text": [
      "3858.33\n"
     ]
    },
    {
     "data": {
      "text/plain": [
       "{'info': {'orderId': '8389765509101346200',\n",
       "  'symbol': 'ETHUSDT',\n",
       "  'status': 'NEW',\n",
       "  'clientOrderId': 'x-xcKtGhcu41680a6da6274810a76ddb',\n",
       "  'price': '3858.33',\n",
       "  'avgPrice': '0.00000',\n",
       "  'origQty': '0.002',\n",
       "  'executedQty': '0',\n",
       "  'cumQty': '0',\n",
       "  'cumQuote': '0',\n",
       "  'timeInForce': 'GTC',\n",
       "  'type': 'LIMIT',\n",
       "  'reduceOnly': False,\n",
       "  'closePosition': False,\n",
       "  'side': 'SELL',\n",
       "  'positionSide': 'BOTH',\n",
       "  'stopPrice': '0',\n",
       "  'workingType': 'CONTRACT_PRICE',\n",
       "  'priceProtect': False,\n",
       "  'origType': 'LIMIT',\n",
       "  'updateTime': '1634483299501'},\n",
       " 'id': '8389765509101346200',\n",
       " 'clientOrderId': 'x-xcKtGhcu41680a6da6274810a76ddb',\n",
       " 'timestamp': 1634483299501,\n",
       " 'datetime': '2021-10-17T15:08:19.501Z',\n",
       " 'lastTradeTimestamp': None,\n",
       " 'symbol': 'ETH/USDT',\n",
       " 'type': 'limit',\n",
       " 'timeInForce': 'GTC',\n",
       " 'postOnly': False,\n",
       " 'side': 'sell',\n",
       " 'price': 3858.33,\n",
       " 'stopPrice': None,\n",
       " 'amount': 0.002,\n",
       " 'cost': 0.0,\n",
       " 'average': None,\n",
       " 'filled': 0.0,\n",
       " 'remaining': 0.002,\n",
       " 'status': 'open',\n",
       " 'fee': None,\n",
       " 'trades': [],\n",
       " 'fees': []}"
      ]
     },
     "execution_count": 60,
     "metadata": {},
     "output_type": "execute_result"
    }
   ],
   "source": [
    "# 현재 포지션 2퍼 위에 매도 예약\n",
    "# targetPrice = round(float(position[\"entryPrice\"]) * 1.0022, 2)\n",
    "# print(targetPrice)\n",
    "# binance.create_limit_sell_order(\n",
    "#     symbol = 'ETH/USDT',\n",
    "#     amount = 0.002,\n",
    "#     price = targetPrice\n",
    "# )"
   ]
  },
  {
   "cell_type": "code",
   "execution_count": 58,
   "id": "f7f800d1",
   "metadata": {},
   "outputs": [
    {
     "name": "stdout",
     "output_type": "stream",
     "text": [
      "[{'amount': 0.002,\n",
      "  'average': None,\n",
      "  'clientOrderId': 'x-xcKtGhcuc3764ad988599b9c5d64a3',\n",
      "  'cost': 0.0,\n",
      "  'datetime': '2021-10-17T15:07:53.478Z',\n",
      "  'fee': None,\n",
      "  'fees': [],\n",
      "  'filled': 0.0,\n",
      "  'id': '8389765509101328129',\n",
      "  'info': {'avgPrice': '0',\n",
      "           'clientOrderId': 'x-xcKtGhcuc3764ad988599b9c5d64a3',\n",
      "           'closePosition': False,\n",
      "           'cumQuote': '0',\n",
      "           'executedQty': '0',\n",
      "           'orderId': '8389765509101328129',\n",
      "           'origQty': '0.002',\n",
      "           'origType': 'LIMIT',\n",
      "           'positionSide': 'BOTH',\n",
      "           'price': '3858.33',\n",
      "           'priceProtect': False,\n",
      "           'reduceOnly': False,\n",
      "           'side': 'SELL',\n",
      "           'status': 'NEW',\n",
      "           'stopPrice': '0',\n",
      "           'symbol': 'ETHUSDT',\n",
      "           'time': '1634483273478',\n",
      "           'timeInForce': 'GTC',\n",
      "           'type': 'LIMIT',\n",
      "           'updateTime': '1634483273478',\n",
      "           'workingType': 'CONTRACT_PRICE'},\n",
      "  'lastTradeTimestamp': None,\n",
      "  'postOnly': False,\n",
      "  'price': 3858.33,\n",
      "  'remaining': 0.002,\n",
      "  'side': 'sell',\n",
      "  'status': 'open',\n",
      "  'stopPrice': None,\n",
      "  'symbol': 'ETH/USDT',\n",
      "  'timeInForce': 'GTC',\n",
      "  'timestamp': 1634483273478,\n",
      "  'trades': [],\n",
      "  'type': 'limit'}]\n"
     ]
    }
   ],
   "source": [
    "# 대기 주문 조회\n",
    "open_orders = binance.fetch_open_orders(\n",
    "    symbol=\"ETH/USDT\"\n",
    ")\n",
    "pprint.pprint(open_orders)"
   ]
  },
  {
   "cell_type": "code",
   "execution_count": 59,
   "id": "c1a4b104",
   "metadata": {},
   "outputs": [
    {
     "data": {
      "text/plain": [
       "{'code': '200', 'msg': 'The operation of cancel all open order is done.'}"
      ]
     },
     "execution_count": 59,
     "metadata": {},
     "output_type": "execute_result"
    }
   ],
   "source": [
    "# 모든 대기 주문 취소\n",
    "binance.cancel_all_orders(symbol = \"ETH/USDT\")"
   ]
  },
  {
   "cell_type": "code",
   "execution_count": null,
   "id": "40d6a1a3",
   "metadata": {},
   "outputs": [],
   "source": []
  }
 ],
 "metadata": {
  "kernelspec": {
   "display_name": "Python 3",
   "language": "python",
   "name": "python3"
  },
  "language_info": {
   "codemirror_mode": {
    "name": "ipython",
    "version": 3
   },
   "file_extension": ".py",
   "mimetype": "text/x-python",
   "name": "python",
   "nbconvert_exporter": "python",
   "pygments_lexer": "ipython3",
   "version": "3.8.8"
  }
 },
 "nbformat": 4,
 "nbformat_minor": 5
}
