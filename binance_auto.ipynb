{
 "cells": [
  {
   "cell_type": "code",
   "execution_count": 7,
   "id": "905a1cdf",
   "metadata": {},
   "outputs": [],
   "source": [
    "# !pip install ccxt\n",
    "# !pip install slacker\n",
    "import ccxt\n",
    "import pprint\n",
    "from datetime import datetime\n",
    "from slacker import Slacker\n",
    "import time"
   ]
  },
  {
   "cell_type": "code",
   "execution_count": 8,
   "id": "93536e30",
   "metadata": {},
   "outputs": [],
   "source": [
    "# 파일로부터 apiKey, Secret 읽기 \n",
    "with open(\"apiKey_ham.txt\") as f:\n",
    "    lines = f.readlines()\n",
    "    apiKey = lines[0].strip() \n",
    "    secret = lines[1].strip() \n",
    "    slackToken = lines[2].strip()"
   ]
  },
  {
   "cell_type": "code",
   "execution_count": 9,
   "id": "d213afe7",
   "metadata": {},
   "outputs": [],
   "source": [
    "slack = Slacker(slackToken)\n",
    "binance = ccxt.binance()"
   ]
  },
  {
   "cell_type": "code",
   "execution_count": null,
   "id": "38124c7f",
   "metadata": {},
   "outputs": [],
   "source": [
    "# 슬랙 메세지 보내기\n",
    "# slack.chat.post_message('#autostock','hi bum!')"
   ]
  },
  {
   "cell_type": "code",
   "execution_count": null,
   "id": "6660f4d4",
   "metadata": {},
   "outputs": [],
   "source": [
    "# 티커들 조회\n",
    "markets = binance.fetch_tickers()\n",
    "print(markets.keys())"
   ]
  },
  {
   "cell_type": "code",
   "execution_count": 84,
   "id": "1f770650",
   "metadata": {},
   "outputs": [
    {
     "name": "stdout",
     "output_type": "stream",
     "text": [
      "3854.69 3925.95 3752.0 3796.35\n"
     ]
    }
   ],
   "source": [
    "# 현재가 조회\n",
    "ticker = binance.fetch_ticker('ETH/USDT')\n",
    "print(ticker['open'], ticker['high'], ticker['low'], ticker['close'])"
   ]
  },
  {
   "cell_type": "code",
   "execution_count": 20,
   "id": "121e4543",
   "metadata": {},
   "outputs": [],
   "source": [
    "# 과거 데이터 조회\n",
    "ohlcvs = binance.fetch_ohlcv('ETH/USDT')\n",
    "# for ohlc in ohlcvs:\n",
    "#     print(datetime.fromtimestamp(ohlc[0]/1000).strftime('%Y-%m-%d %H:%M:%S'))"
   ]
  },
  {
   "cell_type": "markdown",
   "id": "feefc72e",
   "metadata": {},
   "source": [
    "---"
   ]
  },
  {
   "cell_type": "code",
   "execution_count": 10,
   "id": "c450d5a2",
   "metadata": {},
   "outputs": [
    {
     "name": "stdout",
     "output_type": "stream",
     "text": [
      "{'free': 80.32177868, 'used': 3.299168, 'total': 83.60923569}\n"
     ]
    }
   ],
   "source": [
    "# 선물 잔고 조회\n",
    "# free : 보유중, used : 거래진행중, \n",
    "binance = ccxt.binance({\n",
    "    'apiKey': apiKey,\n",
    "    'secret': secret,\n",
    "    'enableRateLimit': True,\n",
    "    'options': {\n",
    "        'defaultType': 'future'\n",
    "    }\n",
    "})\n",
    "balance = binance.fetch_balance(params={\"type\": \"future\"})\n",
    "print(balance['USDT'])"
   ]
  },
  {
   "cell_type": "markdown",
   "id": "be026051",
   "metadata": {},
   "source": [
    "---"
   ]
  },
  {
   "cell_type": "code",
   "execution_count": 12,
   "id": "a10c100a",
   "metadata": {},
   "outputs": [],
   "source": [
    "def showDateTime(dateTime):\n",
    "    return datetime.fromtimestamp(dateTime/1000).strftime('%Y-%m-%d %H:%M:%S')"
   ]
  },
  {
   "cell_type": "code",
   "execution_count": 13,
   "id": "08b5928e",
   "metadata": {
    "scrolled": true
   },
   "outputs": [
    {
     "name": "stdout",
     "output_type": "stream",
     "text": [
      "1635043200000\n",
      "2021-10-24 11:40:00 [4141.78, 4146.0, 4130.0, 4130.28, 2225.667]\n",
      "1635043500000\n",
      "2021-10-24 11:45:00 [4130.28, 4138.88, 4128.28, 4138.41, 2019.61]\n",
      "1635043800000\n",
      "2021-10-24 11:50:00 [4138.4, 4141.0, 4136.0, 4139.51, 1470.445]\n",
      "1635044100000\n",
      "2021-10-24 11:55:00 [4139.51, 4147.32, 4136.0, 4143.37, 2984.258]\n",
      "1635044400000\n",
      "2021-10-24 12:00:00 [4143.28, 4143.28, 4134.8, 4136.51, 2202.705]\n",
      "1635044700000\n",
      "2021-10-24 12:05:00 [4136.51, 4146.92, 4135.7, 4146.82, 3010.063]\n",
      "1635045000000\n",
      "2021-10-24 12:10:00 [4146.82, 4149.94, 4145.08, 4147.82, 2360.447]\n",
      "1635045300000\n",
      "2021-10-24 12:15:00 [4147.82, 4147.82, 4141.1, 4142.84, 1391.503]\n",
      "1635045600000\n",
      "2021-10-24 12:20:00 [4142.83, 4150.87, 4141.55, 4145.76, 1906.978]\n",
      "1635045900000\n",
      "2021-10-24 12:25:00 [4145.75, 4146.52, 4138.0, 4138.48, 3048.473]\n",
      "1635046200000\n",
      "2021-10-24 12:30:00 [4138.49, 4146.0, 4135.2, 4144.96, 2655.848]\n",
      "1635046500000\n",
      "2021-10-24 12:35:00 [4144.96, 4148.65, 4141.76, 4146.49, 2346.572]\n",
      "1635046800000\n",
      "2021-10-24 12:40:00 [4146.82, 4148.91, 4141.57, 4142.66, 1157.794]\n",
      "1635047100000\n",
      "2021-10-24 12:45:00 [4142.66, 4145.89, 4137.08, 4137.08, 2495.615]\n",
      "1635047400000\n",
      "2021-10-24 12:50:00 [4137.07, 4139.23, 4132.85, 4137.31, 2886.804]\n",
      "1635047700000\n",
      "2021-10-24 12:55:00 [4137.32, 4138.55, 4134.4, 4137.87, 841.918]\n",
      "1635048000000\n",
      "2021-10-24 13:00:00 [4137.86, 4141.44, 4129.2, 4135.53, 4033.615]\n",
      "1635048300000\n",
      "2021-10-24 13:05:00 [4135.54, 4135.54, 4125.85, 4127.65, 2685.406]\n",
      "1635048600000\n",
      "2021-10-24 13:10:00 [4127.64, 4131.5, 4123.5, 4124.21, 2903.744]\n",
      "1635048900000\n",
      "2021-10-24 13:15:00 [4124.06, 4131.25, 4122.87, 4123.42, 2101.499]\n"
     ]
    }
   ],
   "source": [
    "# ohlcv\n",
    "eth5m = binance.fetch_ohlcv(\n",
    "    symbol=\"ETH/USDT\", \n",
    "    timeframe='5m', \n",
    "    since=None, \n",
    "    limit=20)\n",
    "for e in eth5m:\n",
    "    print(e[0])\n",
    "    print(showDateTime(e[0]), e[1:])"
   ]
  },
  {
   "cell_type": "code",
   "execution_count": 112,
   "id": "99ed17a2",
   "metadata": {},
   "outputs": [
    {
     "name": "stdout",
     "output_type": "stream",
     "text": [
      "['', 'black', 'black', '', 'black', 'white', '', '', 'black', '']\n"
     ]
    },
    {
     "data": {
      "text/plain": [
       "False"
      ]
     },
     "execution_count": 112,
     "metadata": {},
     "output_type": "execute_result"
    }
   ],
   "source": [
    "def checkIfGoodToBuy():\n",
    "    eth5m = binance.fetch_ohlcv(\n",
    "        symbol=\"ETH/USDT\",\n",
    "        timeframe='5m',\n",
    "        since=None,\n",
    "        limit=10)\n",
    "    candleL = []\n",
    "    for e in eth5m:\n",
    "        candle = e[4] - e[1]\n",
    "        if candle > 3:\n",
    "            candleL.append(\"white\")\n",
    "        elif candle < -3:\n",
    "            candleL.append(\"black\")\n",
    "        else:\n",
    "            candleL.append(\"\")\n",
    "    print(candleL)\n",
    "    if len(candleL) < 3:\n",
    "        return False\n",
    "    goodStack = 0\n",
    "    for i in range(len(candleL) - 1, -1, -1):\n",
    "        if candleL[i] == \"white\":\n",
    "            return False\n",
    "        elif candleL[i] == \"black\":\n",
    "            goodStack += 1\n",
    "        elif candleL[i] == \"\" and goodStack >= 3:\n",
    "            return True\n",
    "        if goodStack >= 4:\n",
    "            return True\n",
    "    return False\n",
    "checkIfGoodToBuy()"
   ]
  },
  {
   "cell_type": "markdown",
   "id": "247d8ab7",
   "metadata": {},
   "source": [
    "---"
   ]
  },
  {
   "cell_type": "code",
   "execution_count": 33,
   "id": "299569b6",
   "metadata": {},
   "outputs": [
    {
     "name": "stdout",
     "output_type": "stream",
     "text": [
      "{'amount': 0.002,\n",
      " 'average': 3849.86,\n",
      " 'clientOrderId': 'x-xcKtGhcu27a24d72355b4a0c810ef1',\n",
      " 'cost': 7.69972,\n",
      " 'datetime': None,\n",
      " 'fee': None,\n",
      " 'fees': [],\n",
      " 'filled': 0.002,\n",
      " 'id': '8389765509100861083',\n",
      " 'info': {'avgPrice': '3849.86000',\n",
      "          'clientOrderId': 'x-xcKtGhcu27a24d72355b4a0c810ef1',\n",
      "          'closePosition': False,\n",
      "          'cumQty': '0.002',\n",
      "          'cumQuote': '7.69972',\n",
      "          'executedQty': '0.002',\n",
      "          'orderId': '8389765509100861083',\n",
      "          'origQty': '0.002',\n",
      "          'origType': 'MARKET',\n",
      "          'positionSide': 'BOTH',\n",
      "          'price': '0',\n",
      "          'priceProtect': False,\n",
      "          'reduceOnly': False,\n",
      "          'side': 'BUY',\n",
      "          'status': 'FILLED',\n",
      "          'stopPrice': '0',\n",
      "          'symbol': 'ETHUSDT',\n",
      "          'timeInForce': 'GTC',\n",
      "          'type': 'MARKET',\n",
      "          'updateTime': '1634482056016',\n",
      "          'workingType': 'CONTRACT_PRICE'},\n",
      " 'lastTradeTimestamp': None,\n",
      " 'postOnly': False,\n",
      " 'price': 3849.86,\n",
      " 'remaining': 0.0,\n",
      " 'side': 'buy',\n",
      " 'status': 'closed',\n",
      " 'stopPrice': None,\n",
      " 'symbol': 'ETH/USDT',\n",
      " 'timeInForce': 'GTC',\n",
      " 'timestamp': None,\n",
      " 'trades': [],\n",
      " 'type': 'market'}\n"
     ]
    }
   ],
   "source": [
    "# 매수 매도\n",
    "order = binance.create_market_buy_order(\n",
    "    symbol=\"ETH/USDT\",\n",
    "    amount=0.002, \n",
    ")\n",
    "pprint.pprint(order)\n",
    " \n",
    "# order = binance.create_market_sell_order(\n",
    "#     symbol=\"ETH/USDT\",\n",
    "#     amount=0.002, \n",
    "# )\n",
    "# pprint.pprint(order)\n"
   ]
  },
  {
   "cell_type": "code",
   "execution_count": 51,
   "id": "a66aff76",
   "metadata": {},
   "outputs": [
    {
     "data": {
      "text/plain": [
       "'20211020'"
      ]
     },
     "execution_count": 51,
     "metadata": {},
     "output_type": "execute_result"
    }
   ],
   "source": [
    "def getTodayDate():\n",
    "    now = datetime.now()\n",
    "    nowDate = now.strftime('%Y%m%d')\n",
    "    return nowDate"
   ]
  },
  {
   "cell_type": "code",
   "execution_count": 66,
   "id": "fa6ef181",
   "metadata": {},
   "outputs": [],
   "source": [
    "\n",
    "price = 3849.86\n",
    "updateTime = '1634482056016'\n",
    "\n",
    "fileName = getTodayDate()+\".txt\"\n",
    "try:\n",
    "    with open(fileName) as f:\n",
    "        lines = f.readlines()\n",
    "except:\n",
    "    f = open(fileName, \"w\")\n",
    "    f.close()\n",
    "    lines = []\n",
    "lines.append(updateTime + \"\\n\")\n",
    "with open(fileName, \"w\") as f:\n",
    "    for line in lines:\n",
    "        f.write(line)\n"
   ]
  },
  {
   "cell_type": "code",
   "execution_count": 99,
   "id": "95880f48",
   "metadata": {},
   "outputs": [
    {
     "name": "stdout",
     "output_type": "stream",
     "text": [
      "{'symbol': 'ETHUSDT', 'initialMargin': '0', 'maintMargin': '0', 'unrealizedProfit': '0.00000000', 'positionInitialMargin': '0', 'openOrderInitialMargin': '0', 'leverage': '10', 'isolated': True, 'entryPrice': '0.0', 'maxNotional': '4000000', 'positionSide': 'BOTH', 'positionAmt': '0.000', 'notional': '0', 'isolatedWallet': '0', 'updateTime': '1634491502625'}\n",
      "False\n",
      "0.0\n"
     ]
    }
   ],
   "source": [
    "# 현재 포지션 확인\n",
    "balance = binance.fetch_balance()\n",
    "position = [x for x in balance['info']['positions'] if x['symbol'] == \"ETHUSDT\"][0]\n",
    "print(position)\n",
    "print(float(position[\"positionAmt\"]) > 0)\n",
    "print(position[\"entryPrice\"])"
   ]
  },
  {
   "cell_type": "code",
   "execution_count": 6,
   "id": "37c26510",
   "metadata": {},
   "outputs": [
    {
     "ename": "AuthenticationError",
     "evalue": "requires `apiKey`",
     "output_type": "error",
     "traceback": [
      "\u001b[0;31m---------------------------------------------------------------------------\u001b[0m",
      "\u001b[0;31mAuthenticationError\u001b[0m                       Traceback (most recent call last)",
      "\u001b[0;32m<ipython-input-6-187e3f82b506>\u001b[0m in \u001b[0;36m<module>\u001b[0;34m\u001b[0m\n\u001b[0;32m----> 1\u001b[0;31m \u001b[0mbalance\u001b[0m \u001b[0;34m=\u001b[0m \u001b[0mbinance\u001b[0m\u001b[0;34m.\u001b[0m\u001b[0mfetch_balance\u001b[0m\u001b[0;34m(\u001b[0m\u001b[0;34m)\u001b[0m\u001b[0;34m\u001b[0m\u001b[0;34m\u001b[0m\u001b[0m\n\u001b[0m\u001b[1;32m      2\u001b[0m \u001b[0mentryPrice\u001b[0m \u001b[0;34m=\u001b[0m \u001b[0mfloat\u001b[0m\u001b[0;34m(\u001b[0m\u001b[0;34m[\u001b[0m\u001b[0mx\u001b[0m \u001b[0;32mfor\u001b[0m \u001b[0mx\u001b[0m \u001b[0;32min\u001b[0m \u001b[0mbalance\u001b[0m\u001b[0;34m[\u001b[0m\u001b[0;34m'info'\u001b[0m\u001b[0;34m]\u001b[0m\u001b[0;34m[\u001b[0m\u001b[0;34m'positions'\u001b[0m\u001b[0;34m]\u001b[0m \u001b[0;32mif\u001b[0m \u001b[0mx\u001b[0m\u001b[0;34m[\u001b[0m\u001b[0;34m'symbol'\u001b[0m\u001b[0;34m]\u001b[0m \u001b[0;34m==\u001b[0m \u001b[0;34m\"ETHUSDT\"\u001b[0m\u001b[0;34m]\u001b[0m\u001b[0;34m[\u001b[0m\u001b[0;36m0\u001b[0m\u001b[0;34m]\u001b[0m\u001b[0;34m[\u001b[0m\u001b[0;34m\"entryPrice\"\u001b[0m\u001b[0;34m]\u001b[0m\u001b[0;34m)\u001b[0m\u001b[0;34m\u001b[0m\u001b[0;34m\u001b[0m\u001b[0m\n\u001b[1;32m      3\u001b[0m \u001b[0mentryPrice\u001b[0m\u001b[0;34m\u001b[0m\u001b[0;34m\u001b[0m\u001b[0m\n",
      "\u001b[0;32m~/opt/anaconda3/lib/python3.8/site-packages/ccxt/binance.py\u001b[0m in \u001b[0;36mfetch_balance\u001b[0;34m(self, params)\u001b[0m\n\u001b[1;32m   1384\u001b[0m             \u001b[0mmethod\u001b[0m \u001b[0;34m=\u001b[0m \u001b[0;34m'sapiPostAssetGetFundingAsset'\u001b[0m\u001b[0;34m\u001b[0m\u001b[0;34m\u001b[0m\u001b[0m\n\u001b[1;32m   1385\u001b[0m         \u001b[0mquery\u001b[0m \u001b[0;34m=\u001b[0m \u001b[0mself\u001b[0m\u001b[0;34m.\u001b[0m\u001b[0momit\u001b[0m\u001b[0;34m(\u001b[0m\u001b[0mparams\u001b[0m\u001b[0;34m,\u001b[0m \u001b[0;34m'type'\u001b[0m\u001b[0;34m)\u001b[0m\u001b[0;34m\u001b[0m\u001b[0;34m\u001b[0m\u001b[0m\n\u001b[0;32m-> 1386\u001b[0;31m         \u001b[0mresponse\u001b[0m \u001b[0;34m=\u001b[0m \u001b[0mgetattr\u001b[0m\u001b[0;34m(\u001b[0m\u001b[0mself\u001b[0m\u001b[0;34m,\u001b[0m \u001b[0mmethod\u001b[0m\u001b[0;34m)\u001b[0m\u001b[0;34m(\u001b[0m\u001b[0mquery\u001b[0m\u001b[0;34m)\u001b[0m\u001b[0;34m\u001b[0m\u001b[0;34m\u001b[0m\u001b[0m\n\u001b[0m\u001b[1;32m   1387\u001b[0m         \u001b[0;31m#\u001b[0m\u001b[0;34m\u001b[0m\u001b[0;34m\u001b[0m\u001b[0;34m\u001b[0m\u001b[0m\n\u001b[1;32m   1388\u001b[0m         \u001b[0;31m# spot\u001b[0m\u001b[0;34m\u001b[0m\u001b[0;34m\u001b[0m\u001b[0;34m\u001b[0m\u001b[0m\n",
      "\u001b[0;32m~/opt/anaconda3/lib/python3.8/site-packages/ccxt/base/exchange.py\u001b[0m in \u001b[0;36minner\u001b[0;34m(_self, params, context)\u001b[0m\n\u001b[1;32m    455\u001b[0m                 \u001b[0;32mif\u001b[0m \u001b[0mcontext\u001b[0m \u001b[0;32mis\u001b[0m \u001b[0;32mnot\u001b[0m \u001b[0;32mNone\u001b[0m\u001b[0;34m:\u001b[0m\u001b[0;34m\u001b[0m\u001b[0;34m\u001b[0m\u001b[0m\n\u001b[1;32m    456\u001b[0m                     \u001b[0minner_kwargs\u001b[0m\u001b[0;34m[\u001b[0m\u001b[0;34m'context'\u001b[0m\u001b[0;34m]\u001b[0m \u001b[0;34m=\u001b[0m \u001b[0mparams\u001b[0m\u001b[0;34m\u001b[0m\u001b[0;34m\u001b[0m\u001b[0m\n\u001b[0;32m--> 457\u001b[0;31m                 \u001b[0;32mreturn\u001b[0m \u001b[0mentry\u001b[0m\u001b[0;34m(\u001b[0m\u001b[0m_self\u001b[0m\u001b[0;34m,\u001b[0m \u001b[0;34m**\u001b[0m\u001b[0minner_kwargs\u001b[0m\u001b[0;34m)\u001b[0m\u001b[0;34m\u001b[0m\u001b[0;34m\u001b[0m\u001b[0m\n\u001b[0m\u001b[1;32m    458\u001b[0m             \u001b[0;32mreturn\u001b[0m \u001b[0minner\u001b[0m\u001b[0;34m\u001b[0m\u001b[0;34m\u001b[0m\u001b[0m\n\u001b[1;32m    459\u001b[0m         \u001b[0mto_bind\u001b[0m \u001b[0;34m=\u001b[0m \u001b[0mpartialer\u001b[0m\u001b[0;34m(\u001b[0m\u001b[0;34m)\u001b[0m\u001b[0;34m\u001b[0m\u001b[0;34m\u001b[0m\u001b[0m\n",
      "\u001b[0;32m~/opt/anaconda3/lib/python3.8/site-packages/ccxt/binance.py\u001b[0m in \u001b[0;36mrequest\u001b[0;34m(self, path, api, method, params, headers, body, config, context)\u001b[0m\n\u001b[1;32m   4399\u001b[0m \u001b[0;34m\u001b[0m\u001b[0m\n\u001b[1;32m   4400\u001b[0m     \u001b[0;32mdef\u001b[0m \u001b[0mrequest\u001b[0m\u001b[0;34m(\u001b[0m\u001b[0mself\u001b[0m\u001b[0;34m,\u001b[0m \u001b[0mpath\u001b[0m\u001b[0;34m,\u001b[0m \u001b[0mapi\u001b[0m\u001b[0;34m=\u001b[0m\u001b[0;34m'public'\u001b[0m\u001b[0;34m,\u001b[0m \u001b[0mmethod\u001b[0m\u001b[0;34m=\u001b[0m\u001b[0;34m'GET'\u001b[0m\u001b[0;34m,\u001b[0m \u001b[0mparams\u001b[0m\u001b[0;34m=\u001b[0m\u001b[0;34m{\u001b[0m\u001b[0;34m}\u001b[0m\u001b[0;34m,\u001b[0m \u001b[0mheaders\u001b[0m\u001b[0;34m=\u001b[0m\u001b[0;32mNone\u001b[0m\u001b[0;34m,\u001b[0m \u001b[0mbody\u001b[0m\u001b[0;34m=\u001b[0m\u001b[0;32mNone\u001b[0m\u001b[0;34m,\u001b[0m \u001b[0mconfig\u001b[0m\u001b[0;34m=\u001b[0m\u001b[0;34m{\u001b[0m\u001b[0;34m}\u001b[0m\u001b[0;34m,\u001b[0m \u001b[0mcontext\u001b[0m\u001b[0;34m=\u001b[0m\u001b[0;34m{\u001b[0m\u001b[0;34m}\u001b[0m\u001b[0;34m)\u001b[0m\u001b[0;34m:\u001b[0m\u001b[0;34m\u001b[0m\u001b[0;34m\u001b[0m\u001b[0m\n\u001b[0;32m-> 4401\u001b[0;31m         \u001b[0mresponse\u001b[0m \u001b[0;34m=\u001b[0m \u001b[0mself\u001b[0m\u001b[0;34m.\u001b[0m\u001b[0mfetch2\u001b[0m\u001b[0;34m(\u001b[0m\u001b[0mpath\u001b[0m\u001b[0;34m,\u001b[0m \u001b[0mapi\u001b[0m\u001b[0;34m,\u001b[0m \u001b[0mmethod\u001b[0m\u001b[0;34m,\u001b[0m \u001b[0mparams\u001b[0m\u001b[0;34m,\u001b[0m \u001b[0mheaders\u001b[0m\u001b[0;34m,\u001b[0m \u001b[0mbody\u001b[0m\u001b[0;34m,\u001b[0m \u001b[0mconfig\u001b[0m\u001b[0;34m,\u001b[0m \u001b[0mcontext\u001b[0m\u001b[0;34m)\u001b[0m\u001b[0;34m\u001b[0m\u001b[0;34m\u001b[0m\u001b[0m\n\u001b[0m\u001b[1;32m   4402\u001b[0m         \u001b[0;31m# a workaround for {\"code\":-2015,\"msg\":\"Invalid API-key, IP, or permissions for action.\"}\u001b[0m\u001b[0;34m\u001b[0m\u001b[0;34m\u001b[0m\u001b[0;34m\u001b[0m\u001b[0m\n\u001b[1;32m   4403\u001b[0m         \u001b[0;32mif\u001b[0m \u001b[0;34m(\u001b[0m\u001b[0mapi\u001b[0m \u001b[0;34m==\u001b[0m \u001b[0;34m'private'\u001b[0m\u001b[0;34m)\u001b[0m \u001b[0;32mor\u001b[0m \u001b[0;34m(\u001b[0m\u001b[0mapi\u001b[0m \u001b[0;34m==\u001b[0m \u001b[0;34m'wapi'\u001b[0m\u001b[0;34m)\u001b[0m\u001b[0;34m:\u001b[0m\u001b[0;34m\u001b[0m\u001b[0;34m\u001b[0m\u001b[0m\n",
      "\u001b[0;32m~/opt/anaconda3/lib/python3.8/site-packages/ccxt/base/exchange.py\u001b[0m in \u001b[0;36mfetch2\u001b[0;34m(self, path, api, method, params, headers, body, config, context)\u001b[0m\n\u001b[1;32m    499\u001b[0m             \u001b[0mself\u001b[0m\u001b[0;34m.\u001b[0m\u001b[0mthrottle\u001b[0m\u001b[0;34m(\u001b[0m\u001b[0mcost\u001b[0m\u001b[0;34m)\u001b[0m\u001b[0;34m\u001b[0m\u001b[0;34m\u001b[0m\u001b[0m\n\u001b[1;32m    500\u001b[0m         \u001b[0mself\u001b[0m\u001b[0;34m.\u001b[0m\u001b[0mlastRestRequestTimestamp\u001b[0m \u001b[0;34m=\u001b[0m \u001b[0mself\u001b[0m\u001b[0;34m.\u001b[0m\u001b[0mmilliseconds\u001b[0m\u001b[0;34m(\u001b[0m\u001b[0;34m)\u001b[0m\u001b[0;34m\u001b[0m\u001b[0;34m\u001b[0m\u001b[0m\n\u001b[0;32m--> 501\u001b[0;31m         \u001b[0mrequest\u001b[0m \u001b[0;34m=\u001b[0m \u001b[0mself\u001b[0m\u001b[0;34m.\u001b[0m\u001b[0msign\u001b[0m\u001b[0;34m(\u001b[0m\u001b[0mpath\u001b[0m\u001b[0;34m,\u001b[0m \u001b[0mapi\u001b[0m\u001b[0;34m,\u001b[0m \u001b[0mmethod\u001b[0m\u001b[0;34m,\u001b[0m \u001b[0mparams\u001b[0m\u001b[0;34m,\u001b[0m \u001b[0mheaders\u001b[0m\u001b[0;34m,\u001b[0m \u001b[0mbody\u001b[0m\u001b[0;34m)\u001b[0m\u001b[0;34m\u001b[0m\u001b[0;34m\u001b[0m\u001b[0m\n\u001b[0m\u001b[1;32m    502\u001b[0m         \u001b[0;32mreturn\u001b[0m \u001b[0mself\u001b[0m\u001b[0;34m.\u001b[0m\u001b[0mfetch\u001b[0m\u001b[0;34m(\u001b[0m\u001b[0mrequest\u001b[0m\u001b[0;34m[\u001b[0m\u001b[0;34m'url'\u001b[0m\u001b[0;34m]\u001b[0m\u001b[0;34m,\u001b[0m \u001b[0mrequest\u001b[0m\u001b[0;34m[\u001b[0m\u001b[0;34m'method'\u001b[0m\u001b[0;34m]\u001b[0m\u001b[0;34m,\u001b[0m \u001b[0mrequest\u001b[0m\u001b[0;34m[\u001b[0m\u001b[0;34m'headers'\u001b[0m\u001b[0;34m]\u001b[0m\u001b[0;34m,\u001b[0m \u001b[0mrequest\u001b[0m\u001b[0;34m[\u001b[0m\u001b[0;34m'body'\u001b[0m\u001b[0;34m]\u001b[0m\u001b[0;34m)\u001b[0m\u001b[0;34m\u001b[0m\u001b[0;34m\u001b[0m\u001b[0m\n\u001b[1;32m    503\u001b[0m \u001b[0;34m\u001b[0m\u001b[0m\n",
      "\u001b[0;32m~/opt/anaconda3/lib/python3.8/site-packages/ccxt/binance.py\u001b[0m in \u001b[0;36msign\u001b[0;34m(self, path, api, method, params, headers, body)\u001b[0m\n\u001b[1;32m   4300\u001b[0m                 \u001b[0;32mraise\u001b[0m \u001b[0mAuthenticationError\u001b[0m\u001b[0;34m(\u001b[0m\u001b[0mself\u001b[0m\u001b[0;34m.\u001b[0m\u001b[0mid\u001b[0m \u001b[0;34m+\u001b[0m \u001b[0;34m' userDataStream endpoint requires `apiKey` credential'\u001b[0m\u001b[0;34m)\u001b[0m\u001b[0;34m\u001b[0m\u001b[0;34m\u001b[0m\u001b[0m\n\u001b[1;32m   4301\u001b[0m         \u001b[0;32melif\u001b[0m \u001b[0;34m(\u001b[0m\u001b[0mapi\u001b[0m \u001b[0;34m==\u001b[0m \u001b[0;34m'private'\u001b[0m\u001b[0;34m)\u001b[0m \u001b[0;32mor\u001b[0m \u001b[0;34m(\u001b[0m\u001b[0mapi\u001b[0m \u001b[0;34m==\u001b[0m \u001b[0;34m'sapi'\u001b[0m\u001b[0;34m)\u001b[0m \u001b[0;32mor\u001b[0m \u001b[0;34m(\u001b[0m\u001b[0mapi\u001b[0m \u001b[0;34m==\u001b[0m \u001b[0;34m'wapi'\u001b[0m \u001b[0;32mand\u001b[0m \u001b[0mpath\u001b[0m \u001b[0;34m!=\u001b[0m \u001b[0;34m'systemStatus'\u001b[0m\u001b[0;34m)\u001b[0m \u001b[0;32mor\u001b[0m \u001b[0;34m(\u001b[0m\u001b[0mapi\u001b[0m \u001b[0;34m==\u001b[0m \u001b[0;34m'dapiPrivate'\u001b[0m\u001b[0;34m)\u001b[0m \u001b[0;32mor\u001b[0m \u001b[0;34m(\u001b[0m\u001b[0mapi\u001b[0m \u001b[0;34m==\u001b[0m \u001b[0;34m'dapiPrivateV2'\u001b[0m\u001b[0;34m)\u001b[0m \u001b[0;32mor\u001b[0m \u001b[0;34m(\u001b[0m\u001b[0mapi\u001b[0m \u001b[0;34m==\u001b[0m \u001b[0;34m'fapiPrivate'\u001b[0m\u001b[0;34m)\u001b[0m \u001b[0;32mor\u001b[0m \u001b[0;34m(\u001b[0m\u001b[0mapi\u001b[0m \u001b[0;34m==\u001b[0m \u001b[0;34m'fapiPrivateV2'\u001b[0m\u001b[0;34m)\u001b[0m\u001b[0;34m:\u001b[0m\u001b[0;34m\u001b[0m\u001b[0;34m\u001b[0m\u001b[0m\n\u001b[0;32m-> 4302\u001b[0;31m             \u001b[0mself\u001b[0m\u001b[0;34m.\u001b[0m\u001b[0mcheck_required_credentials\u001b[0m\u001b[0;34m(\u001b[0m\u001b[0;34m)\u001b[0m\u001b[0;34m\u001b[0m\u001b[0;34m\u001b[0m\u001b[0m\n\u001b[0m\u001b[1;32m   4303\u001b[0m             \u001b[0mquery\u001b[0m \u001b[0;34m=\u001b[0m \u001b[0;32mNone\u001b[0m\u001b[0;34m\u001b[0m\u001b[0;34m\u001b[0m\u001b[0m\n\u001b[1;32m   4304\u001b[0m             \u001b[0mrecvWindow\u001b[0m \u001b[0;34m=\u001b[0m \u001b[0mself\u001b[0m\u001b[0;34m.\u001b[0m\u001b[0msafe_integer\u001b[0m\u001b[0;34m(\u001b[0m\u001b[0mself\u001b[0m\u001b[0;34m.\u001b[0m\u001b[0moptions\u001b[0m\u001b[0;34m,\u001b[0m \u001b[0;34m'recvWindow'\u001b[0m\u001b[0;34m,\u001b[0m \u001b[0;36m5000\u001b[0m\u001b[0;34m)\u001b[0m\u001b[0;34m\u001b[0m\u001b[0;34m\u001b[0m\u001b[0m\n",
      "\u001b[0;32m~/opt/anaconda3/lib/python3.8/site-packages/ccxt/base/exchange.py\u001b[0m in \u001b[0;36mcheck_required_credentials\u001b[0;34m(self, error)\u001b[0m\n\u001b[1;32m   1308\u001b[0m             \u001b[0;32mif\u001b[0m \u001b[0mself\u001b[0m\u001b[0;34m.\u001b[0m\u001b[0mrequiredCredentials\u001b[0m\u001b[0;34m[\u001b[0m\u001b[0mkey\u001b[0m\u001b[0;34m]\u001b[0m \u001b[0;32mand\u001b[0m \u001b[0;32mnot\u001b[0m \u001b[0mgetattr\u001b[0m\u001b[0;34m(\u001b[0m\u001b[0mself\u001b[0m\u001b[0;34m,\u001b[0m \u001b[0mkey\u001b[0m\u001b[0;34m)\u001b[0m\u001b[0;34m:\u001b[0m\u001b[0;34m\u001b[0m\u001b[0;34m\u001b[0m\u001b[0m\n\u001b[1;32m   1309\u001b[0m                 \u001b[0;32mif\u001b[0m \u001b[0merror\u001b[0m\u001b[0;34m:\u001b[0m\u001b[0;34m\u001b[0m\u001b[0;34m\u001b[0m\u001b[0m\n\u001b[0;32m-> 1310\u001b[0;31m                     \u001b[0;32mraise\u001b[0m \u001b[0mAuthenticationError\u001b[0m\u001b[0;34m(\u001b[0m\u001b[0;34m'requires `'\u001b[0m \u001b[0;34m+\u001b[0m \u001b[0mkey\u001b[0m \u001b[0;34m+\u001b[0m \u001b[0;34m'`'\u001b[0m\u001b[0;34m)\u001b[0m\u001b[0;34m\u001b[0m\u001b[0;34m\u001b[0m\u001b[0m\n\u001b[0m\u001b[1;32m   1311\u001b[0m                 \u001b[0;32melse\u001b[0m\u001b[0;34m:\u001b[0m\u001b[0;34m\u001b[0m\u001b[0;34m\u001b[0m\u001b[0m\n\u001b[1;32m   1312\u001b[0m                     \u001b[0;32mreturn\u001b[0m \u001b[0merror\u001b[0m\u001b[0;34m\u001b[0m\u001b[0;34m\u001b[0m\u001b[0m\n",
      "\u001b[0;31mAuthenticationError\u001b[0m: requires `apiKey`"
     ]
    }
   ],
   "source": [
    "balance = binance.fetch_balance()\n",
    "entryPrice = float([x for x in balance['info']['positions'] if x['symbol'] == \"ETHUSDT\"][0][\"entryPrice\"])\n",
    "entryPrice"
   ]
  },
  {
   "cell_type": "code",
   "execution_count": 104,
   "id": "5a118d86",
   "metadata": {},
   "outputs": [
    {
     "data": {
      "text/plain": [
       "0.0"
      ]
     },
     "execution_count": 104,
     "metadata": {},
     "output_type": "execute_result"
    }
   ],
   "source": [
    "\n",
    "balance = binance.fetch_balance()\n",
    "float([x for x in balance['info']['positions'] if x['symbol'] == \"ETHUSDT\"][0][\"positionAmt\"])"
   ]
  },
  {
   "cell_type": "code",
   "execution_count": 83,
   "id": "ea8c81e8",
   "metadata": {},
   "outputs": [
    {
     "data": {
      "text/plain": [
       "{}"
      ]
     },
     "execution_count": 83,
     "metadata": {},
     "output_type": "execute_result"
    }
   ],
   "source": [
    "binance.trades"
   ]
  },
  {
   "cell_type": "code",
   "execution_count": 79,
   "id": "27021964",
   "metadata": {},
   "outputs": [
    {
     "data": {
      "text/plain": [
       "datetime.datetime(2021, 10, 20, 2, 22, 47, 919297)"
      ]
     },
     "execution_count": 79,
     "metadata": {},
     "output_type": "execute_result"
    }
   ],
   "source": [
    "datetime.now()"
   ]
  },
  {
   "cell_type": "code",
   "execution_count": null,
   "id": "68231ae2",
   "metadata": {},
   "outputs": [],
   "source": []
  },
  {
   "cell_type": "code",
   "execution_count": 60,
   "id": "613121f0",
   "metadata": {},
   "outputs": [
    {
     "name": "stdout",
     "output_type": "stream",
     "text": [
      "3858.33\n"
     ]
    },
    {
     "data": {
      "text/plain": [
       "{'info': {'orderId': '8389765509101346200',\n",
       "  'symbol': 'ETHUSDT',\n",
       "  'status': 'NEW',\n",
       "  'clientOrderId': 'x-xcKtGhcu41680a6da6274810a76ddb',\n",
       "  'price': '3858.33',\n",
       "  'avgPrice': '0.00000',\n",
       "  'origQty': '0.002',\n",
       "  'executedQty': '0',\n",
       "  'cumQty': '0',\n",
       "  'cumQuote': '0',\n",
       "  'timeInForce': 'GTC',\n",
       "  'type': 'LIMIT',\n",
       "  'reduceOnly': False,\n",
       "  'closePosition': False,\n",
       "  'side': 'SELL',\n",
       "  'positionSide': 'BOTH',\n",
       "  'stopPrice': '0',\n",
       "  'workingType': 'CONTRACT_PRICE',\n",
       "  'priceProtect': False,\n",
       "  'origType': 'LIMIT',\n",
       "  'updateTime': '1634483299501'},\n",
       " 'id': '8389765509101346200',\n",
       " 'clientOrderId': 'x-xcKtGhcu41680a6da6274810a76ddb',\n",
       " 'timestamp': 1634483299501,\n",
       " 'datetime': '2021-10-17T15:08:19.501Z',\n",
       " 'lastTradeTimestamp': None,\n",
       " 'symbol': 'ETH/USDT',\n",
       " 'type': 'limit',\n",
       " 'timeInForce': 'GTC',\n",
       " 'postOnly': False,\n",
       " 'side': 'sell',\n",
       " 'price': 3858.33,\n",
       " 'stopPrice': None,\n",
       " 'amount': 0.002,\n",
       " 'cost': 0.0,\n",
       " 'average': None,\n",
       " 'filled': 0.0,\n",
       " 'remaining': 0.002,\n",
       " 'status': 'open',\n",
       " 'fee': None,\n",
       " 'trades': [],\n",
       " 'fees': []}"
      ]
     },
     "execution_count": 60,
     "metadata": {},
     "output_type": "execute_result"
    }
   ],
   "source": [
    "# 현재 포지션 2퍼 위에 매도 예약\n",
    "# targetPrice = round(float(position[\"entryPrice\"]) * 1.0022, 2)\n",
    "# print(targetPrice)\n",
    "# binance.create_limit_sell_order(\n",
    "#     symbol = 'ETH/USDT',\n",
    "#     amount = 0.002,\n",
    "#     price = targetPrice\n",
    "# )"
   ]
  },
  {
   "cell_type": "code",
   "execution_count": 58,
   "id": "a1121aaa",
   "metadata": {},
   "outputs": [
    {
     "name": "stdout",
     "output_type": "stream",
     "text": [
      "[{'amount': 0.002,\n",
      "  'average': None,\n",
      "  'clientOrderId': 'x-xcKtGhcuc3764ad988599b9c5d64a3',\n",
      "  'cost': 0.0,\n",
      "  'datetime': '2021-10-17T15:07:53.478Z',\n",
      "  'fee': None,\n",
      "  'fees': [],\n",
      "  'filled': 0.0,\n",
      "  'id': '8389765509101328129',\n",
      "  'info': {'avgPrice': '0',\n",
      "           'clientOrderId': 'x-xcKtGhcuc3764ad988599b9c5d64a3',\n",
      "           'closePosition': False,\n",
      "           'cumQuote': '0',\n",
      "           'executedQty': '0',\n",
      "           'orderId': '8389765509101328129',\n",
      "           'origQty': '0.002',\n",
      "           'origType': 'LIMIT',\n",
      "           'positionSide': 'BOTH',\n",
      "           'price': '3858.33',\n",
      "           'priceProtect': False,\n",
      "           'reduceOnly': False,\n",
      "           'side': 'SELL',\n",
      "           'status': 'NEW',\n",
      "           'stopPrice': '0',\n",
      "           'symbol': 'ETHUSDT',\n",
      "           'time': '1634483273478',\n",
      "           'timeInForce': 'GTC',\n",
      "           'type': 'LIMIT',\n",
      "           'updateTime': '1634483273478',\n",
      "           'workingType': 'CONTRACT_PRICE'},\n",
      "  'lastTradeTimestamp': None,\n",
      "  'postOnly': False,\n",
      "  'price': 3858.33,\n",
      "  'remaining': 0.002,\n",
      "  'side': 'sell',\n",
      "  'status': 'open',\n",
      "  'stopPrice': None,\n",
      "  'symbol': 'ETH/USDT',\n",
      "  'timeInForce': 'GTC',\n",
      "  'timestamp': 1634483273478,\n",
      "  'trades': [],\n",
      "  'type': 'limit'}]\n"
     ]
    }
   ],
   "source": [
    "# 대기 주문 조회\n",
    "open_orders = binance.fetch_open_orders(\n",
    "    symbol=\"ETH/USDT\"\n",
    ")\n",
    "pprint.pprint(open_orders)"
   ]
  },
  {
   "cell_type": "code",
   "execution_count": 59,
   "id": "86648491",
   "metadata": {},
   "outputs": [
    {
     "data": {
      "text/plain": [
       "{'code': '200', 'msg': 'The operation of cancel all open order is done.'}"
      ]
     },
     "execution_count": 59,
     "metadata": {},
     "output_type": "execute_result"
    }
   ],
   "source": [
    "# 모든 대기 주문 취소\n",
    "binance.cancel_all_orders(symbol = \"ETH/USDT\")"
   ]
  },
  {
   "cell_type": "code",
   "execution_count": 9,
   "id": "e3d7adfa",
   "metadata": {},
   "outputs": [
    {
     "data": {
      "text/plain": [
       "[[1634787000000, 4153.31, 4177.86, 4145.61, 4176.14, 6891.7411],\n",
       " [1634787900000, 4176.15, 4192.0, 4175.53, 4183.41, 2199.1437]]"
      ]
     },
     "execution_count": 9,
     "metadata": {},
     "output_type": "execute_result"
    }
   ],
   "source": [
    "eth15m = binance.fetch_ohlcv(\n",
    "    symbol=\"ETH/USDT\",\n",
    "    timeframe='15m',\n",
    "    since=None,\n",
    "    limit=2)\n",
    "eth15m"
   ]
  },
  {
   "cell_type": "code",
   "execution_count": 98,
   "id": "355eae97",
   "metadata": {},
   "outputs": [
    {
     "name": "stdout",
     "output_type": "stream",
     "text": [
      "이전 봉에 구매 이력 있어서 스킵\n",
      "1634664650.381064\n"
     ]
    },
    {
     "data": {
      "text/plain": [
       "[[1634663700000, 3821.2, 3823.57, 3812.44, 3813.35, 10643.144],\n",
       " [1634664600000, 3813.35, 3814.0, 3808.63, 3809.93, 1806.216]]"
      ]
     },
     "execution_count": 98,
     "metadata": {},
     "output_type": "execute_result"
    }
   ],
   "source": [
    "# 물타기\n",
    "fileName = getTodayDate() + \".txt\"\n",
    "with open(fileName) as f:\n",
    "    lines = f.readlines()\n",
    "eth15m = binance.fetch_ohlcv(\n",
    "    symbol=\"ETH/USDT\",\n",
    "    timeframe='15m',\n",
    "    since=None,\n",
    "    limit=2)\n",
    "candle = eth15m[0]\n",
    "if int(lines[-1].split()[0]) > candle[0]:\n",
    "    print(\"이전 봉에 구매 이력 있어서 물타기 스킵\")\n",
    "else:\n",
    "    if candle[4] - candle[1] < -3:\n",
    "        print(\"물타기 하기~\")\n",
    "        water()\n",
    "    else:\n",
    "        print(\"이번 봉은 음봉이 아니라 물타기 스킵\")\n",
    "eth15m[0]\n",
    "print(time.time())\n",
    "eth15m"
   ]
  },
  {
   "cell_type": "markdown",
   "id": "be9a8052",
   "metadata": {},
   "source": [
    "---\n"
   ]
  },
  {
   "cell_type": "code",
   "execution_count": 3,
   "id": "e8369531",
   "metadata": {},
   "outputs": [],
   "source": [
    "# record 관리\n",
    "recordFilePath = \"record.txt\"\n",
    "def writeRecord(updateTime):\n",
    "    with open(recordFilePath, \"w\") as f:\n",
    "        f.write(updateTime)"
   ]
  },
  {
   "cell_type": "code",
   "execution_count": 13,
   "id": "84440a89",
   "metadata": {},
   "outputs": [],
   "source": [
    "with open(recordFilePath) as f:\n",
    "    lines = f.readlines()"
   ]
  },
  {
   "cell_type": "code",
   "execution_count": 14,
   "id": "97897716",
   "metadata": {},
   "outputs": [
    {
     "data": {
      "text/plain": [
       "['1635007505293']"
      ]
     },
     "execution_count": 14,
     "metadata": {},
     "output_type": "execute_result"
    }
   ],
   "source": [
    "lines"
   ]
  },
  {
   "cell_type": "code",
   "execution_count": 12,
   "id": "eb563f77",
   "metadata": {},
   "outputs": [],
   "source": [
    "writeRecord(\"1635007505293\")"
   ]
  },
  {
   "cell_type": "code",
   "execution_count": null,
   "id": "0261b5b9",
   "metadata": {},
   "outputs": [],
   "source": []
  }
 ],
 "metadata": {
  "kernelspec": {
   "display_name": "Python 3",
   "language": "python",
   "name": "python3"
  },
  "language_info": {
   "codemirror_mode": {
    "name": "ipython",
    "version": 3
   },
   "file_extension": ".py",
   "mimetype": "text/x-python",
   "name": "python",
   "nbconvert_exporter": "python",
   "pygments_lexer": "ipython3",
   "version": "3.8.8"
  }
 },
 "nbformat": 4,
 "nbformat_minor": 5
}
