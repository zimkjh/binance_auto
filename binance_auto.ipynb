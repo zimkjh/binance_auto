{
 "cells": [
  {
   "cell_type": "code",
   "execution_count": 89,
   "id": "905a1cdf",
   "metadata": {},
   "outputs": [],
   "source": [
    "# !pip install ccxt\n",
    "# !pip install slacker\n",
    "import ccxt\n",
    "import pprint\n",
    "from datetime import datetime\n",
    "from slacker import Slacker\n",
    "import time"
   ]
  },
  {
   "cell_type": "code",
   "execution_count": 2,
   "id": "93536e30",
   "metadata": {},
   "outputs": [],
   "source": [
    "# 파일로부터 apiKey, Secret 읽기 \n",
    "with open(\"apiKey_ham.txt\") as f:\n",
    "    lines = f.readlines()\n",
    "    apiKey = lines[0].strip() \n",
    "    secret = lines[1].strip() \n",
    "    slackToken = lines[2].strip()"
   ]
  },
  {
   "cell_type": "code",
   "execution_count": 3,
   "id": "d213afe7",
   "metadata": {},
   "outputs": [],
   "source": [
    "slack = Slacker(slackToken)\n",
    "binance = ccxt.binance()"
   ]
  },
  {
   "cell_type": "code",
   "execution_count": null,
   "id": "38124c7f",
   "metadata": {},
   "outputs": [],
   "source": [
    "# 슬랙 메세지 보내기\n",
    "# slack.chat.post_message('#autostock','hi bum!')"
   ]
  },
  {
   "cell_type": "code",
   "execution_count": null,
   "id": "6660f4d4",
   "metadata": {},
   "outputs": [],
   "source": [
    "# 티커들 조회\n",
    "markets = binance.fetch_tickers()\n",
    "print(markets.keys())"
   ]
  },
  {
   "cell_type": "code",
   "execution_count": 84,
   "id": "1f770650",
   "metadata": {},
   "outputs": [
    {
     "name": "stdout",
     "output_type": "stream",
     "text": [
      "3854.69 3925.95 3752.0 3796.35\n"
     ]
    }
   ],
   "source": [
    "# 현재가 조회\n",
    "ticker = binance.fetch_ticker('ETH/USDT')\n",
    "print(ticker['open'], ticker['high'], ticker['low'], ticker['close'])"
   ]
  },
  {
   "cell_type": "code",
   "execution_count": 20,
   "id": "121e4543",
   "metadata": {},
   "outputs": [],
   "source": [
    "# 과거 데이터 조회\n",
    "ohlcvs = binance.fetch_ohlcv('ETH/USDT')\n",
    "# for ohlc in ohlcvs:\n",
    "#     print(datetime.fromtimestamp(ohlc[0]/1000).strftime('%Y-%m-%d %H:%M:%S'))"
   ]
  },
  {
   "cell_type": "markdown",
   "id": "feefc72e",
   "metadata": {},
   "source": [
    "---"
   ]
  },
  {
   "cell_type": "code",
   "execution_count": 4,
   "id": "c450d5a2",
   "metadata": {},
   "outputs": [
    {
     "name": "stdout",
     "output_type": "stream",
     "text": [
      "{'free': 80.95354954, 'used': 0.0, 'total': 80.95354954}\n"
     ]
    }
   ],
   "source": [
    "# 선물 잔고 조회\n",
    "# free : 보유중, used : 거래진행중, \n",
    "binance = ccxt.binance({\n",
    "    'apiKey': apiKey,\n",
    "    'secret': secret,\n",
    "    'enableRateLimit': True,\n",
    "    'options': {\n",
    "        'defaultType': 'future'\n",
    "    }\n",
    "})\n",
    "balance = binance.fetch_balance(params={\"type\": \"future\"})\n",
    "print(balance['USDT'])"
   ]
  },
  {
   "cell_type": "markdown",
   "id": "be026051",
   "metadata": {},
   "source": [
    "---"
   ]
  },
  {
   "cell_type": "code",
   "execution_count": 6,
   "id": "a10c100a",
   "metadata": {},
   "outputs": [],
   "source": [
    "def showDateTime(dateTime):\n",
    "    return datetime.fromtimestamp(dateTime/1000).strftime('%Y-%m-%d %H:%M:%S')"
   ]
  },
  {
   "cell_type": "code",
   "execution_count": 114,
   "id": "08b5928e",
   "metadata": {
    "scrolled": true
   },
   "outputs": [
    {
     "name": "stdout",
     "output_type": "stream",
     "text": [
      "1634703300000\n",
      "2021-10-20 13:15:00 [3851.07, 3855.85, 3850.63, 3853.47, 2022.222]\n",
      "1634703600000\n",
      "2021-10-20 13:20:00 [3853.48, 3855.17, 3850.18, 3850.23, 1749.464]\n",
      "1634703900000\n",
      "2021-10-20 13:25:00 [3850.23, 3851.05, 3846.31, 3848.54, 2713.426]\n",
      "1634704200000\n",
      "2021-10-20 13:30:00 [3848.54, 3852.98, 3846.29, 3847.82, 1109.434]\n",
      "1634704500000\n",
      "2021-10-20 13:35:00 [3847.82, 3857.0, 3847.69, 3855.72, 2941.829]\n",
      "1634704800000\n",
      "2021-10-20 13:40:00 [3855.73, 3857.39, 3851.65, 3857.01, 2124.791]\n",
      "1634705100000\n",
      "2021-10-20 13:45:00 [3857.01, 3860.53, 3856.97, 3860.03, 2492.459]\n",
      "1634705400000\n",
      "2021-10-20 13:50:00 [3860.02, 3860.62, 3855.0, 3856.2, 3046.297]\n",
      "1634705700000\n",
      "2021-10-20 13:55:00 [3856.21, 3862.4, 3854.05, 3859.99, 2066.788]\n",
      "1634706000000\n",
      "2021-10-20 14:00:00 [3859.98, 3862.0, 3853.25, 3854.01, 2413.037]\n",
      "1634706300000\n",
      "2021-10-20 14:05:00 [3854.01, 3863.2, 3853.46, 3862.91, 3346.112]\n",
      "1634706600000\n",
      "2021-10-20 14:10:00 [3862.9, 3863.81, 3861.21, 3862.49, 1869.093]\n",
      "1634706900000\n",
      "2021-10-20 14:15:00 [3862.5, 3863.36, 3855.0, 3857.44, 2496.775]\n",
      "1634707200000\n",
      "2021-10-20 14:20:00 [3857.79, 3858.57, 3853.93, 3855.05, 921.447]\n",
      "1634707500000\n",
      "2021-10-20 14:25:00 [3855.05, 3859.06, 3854.13, 3857.81, 1333.895]\n",
      "1634707800000\n",
      "2021-10-20 14:30:00 [3857.99, 3861.5, 3852.15, 3856.15, 2510.568]\n",
      "1634708100000\n",
      "2021-10-20 14:35:00 [3856.14, 3857.15, 3843.13, 3843.76, 6924.812]\n",
      "1634708400000\n",
      "2021-10-20 14:40:00 [3843.76, 3849.04, 3840.41, 3845.47, 4675.627]\n",
      "1634708700000\n",
      "2021-10-20 14:45:00 [3845.42, 3846.95, 3836.0, 3836.68, 8346.451]\n",
      "1634709000000\n",
      "2021-10-20 14:50:00 [3836.69, 3838.26, 3830.0, 3835.62, 8878.737]\n"
     ]
    }
   ],
   "source": [
    "# ohlcv\n",
    "eth5m = binance.fetch_ohlcv(\n",
    "    symbol=\"ETH/USDT\", \n",
    "    timeframe='5m', \n",
    "    since=None, \n",
    "    limit=20)\n",
    "for e in eth5m:\n",
    "    print(e[0])\n",
    "    print(showDateTime(e[0]), e[1:])"
   ]
  },
  {
   "cell_type": "code",
   "execution_count": 112,
   "id": "99ed17a2",
   "metadata": {},
   "outputs": [
    {
     "name": "stdout",
     "output_type": "stream",
     "text": [
      "['', 'black', 'black', '', 'black', 'white', '', '', 'black', '']\n"
     ]
    },
    {
     "data": {
      "text/plain": [
       "False"
      ]
     },
     "execution_count": 112,
     "metadata": {},
     "output_type": "execute_result"
    }
   ],
   "source": [
    "def checkIfGoodToBuy():\n",
    "    eth5m = binance.fetch_ohlcv(\n",
    "        symbol=\"ETH/USDT\",\n",
    "        timeframe='5m',\n",
    "        since=None,\n",
    "        limit=10)\n",
    "    candleL = []\n",
    "    for e in eth5m:\n",
    "        candle = e[4] - e[1]\n",
    "        if candle > 3:\n",
    "            candleL.append(\"white\")\n",
    "        elif candle < -3:\n",
    "            candleL.append(\"black\")\n",
    "        else:\n",
    "            candleL.append(\"\")\n",
    "    print(candleL)\n",
    "    if len(candleL) < 3:\n",
    "        return False\n",
    "    goodStack = 0\n",
    "    for i in range(len(candleL) - 1, -1, -1):\n",
    "        if candleL[i] == \"white\":\n",
    "            return False\n",
    "        elif candleL[i] == \"black\":\n",
    "            goodStack += 1\n",
    "        elif candleL[i] == \"\" and goodStack >= 3:\n",
    "            return True\n",
    "        if goodStack >= 4:\n",
    "            return True\n",
    "    return False\n",
    "checkIfGoodToBuy()"
   ]
  },
  {
   "cell_type": "markdown",
   "id": "247d8ab7",
   "metadata": {},
   "source": [
    "---"
   ]
  },
  {
   "cell_type": "code",
   "execution_count": 33,
   "id": "299569b6",
   "metadata": {},
   "outputs": [
    {
     "name": "stdout",
     "output_type": "stream",
     "text": [
      "{'amount': 0.002,\n",
      " 'average': 3849.86,\n",
      " 'clientOrderId': 'x-xcKtGhcu27a24d72355b4a0c810ef1',\n",
      " 'cost': 7.69972,\n",
      " 'datetime': None,\n",
      " 'fee': None,\n",
      " 'fees': [],\n",
      " 'filled': 0.002,\n",
      " 'id': '8389765509100861083',\n",
      " 'info': {'avgPrice': '3849.86000',\n",
      "          'clientOrderId': 'x-xcKtGhcu27a24d72355b4a0c810ef1',\n",
      "          'closePosition': False,\n",
      "          'cumQty': '0.002',\n",
      "          'cumQuote': '7.69972',\n",
      "          'executedQty': '0.002',\n",
      "          'orderId': '8389765509100861083',\n",
      "          'origQty': '0.002',\n",
      "          'origType': 'MARKET',\n",
      "          'positionSide': 'BOTH',\n",
      "          'price': '0',\n",
      "          'priceProtect': False,\n",
      "          'reduceOnly': False,\n",
      "          'side': 'BUY',\n",
      "          'status': 'FILLED',\n",
      "          'stopPrice': '0',\n",
      "          'symbol': 'ETHUSDT',\n",
      "          'timeInForce': 'GTC',\n",
      "          'type': 'MARKET',\n",
      "          'updateTime': '1634482056016',\n",
      "          'workingType': 'CONTRACT_PRICE'},\n",
      " 'lastTradeTimestamp': None,\n",
      " 'postOnly': False,\n",
      " 'price': 3849.86,\n",
      " 'remaining': 0.0,\n",
      " 'side': 'buy',\n",
      " 'status': 'closed',\n",
      " 'stopPrice': None,\n",
      " 'symbol': 'ETH/USDT',\n",
      " 'timeInForce': 'GTC',\n",
      " 'timestamp': None,\n",
      " 'trades': [],\n",
      " 'type': 'market'}\n"
     ]
    }
   ],
   "source": [
    "# 매수 매도\n",
    "order = binance.create_market_buy_order(\n",
    "    symbol=\"ETH/USDT\",\n",
    "    amount=0.002, \n",
    ")\n",
    "pprint.pprint(order)\n",
    " \n",
    "# order = binance.create_market_sell_order(\n",
    "#     symbol=\"ETH/USDT\",\n",
    "#     amount=0.002, \n",
    "# )\n",
    "# pprint.pprint(order)\n"
   ]
  },
  {
   "cell_type": "code",
   "execution_count": 51,
   "id": "a66aff76",
   "metadata": {},
   "outputs": [
    {
     "data": {
      "text/plain": [
       "'20211020'"
      ]
     },
     "execution_count": 51,
     "metadata": {},
     "output_type": "execute_result"
    }
   ],
   "source": [
    "def getTodayDate():\n",
    "    now = datetime.now()\n",
    "    nowDate = now.strftime('%Y%m%d')\n",
    "    return nowDate"
   ]
  },
  {
   "cell_type": "code",
   "execution_count": 66,
   "id": "fa6ef181",
   "metadata": {},
   "outputs": [],
   "source": [
    "\n",
    "price = 3849.86\n",
    "updateTime = '1634482056016'\n",
    "\n",
    "fileName = getTodayDate()+\".txt\"\n",
    "try:\n",
    "    with open(fileName) as f:\n",
    "        lines = f.readlines()\n",
    "except:\n",
    "    f = open(fileName, \"w\")\n",
    "    f.close()\n",
    "    lines = []\n",
    "lines.append(updateTime + \"\\n\")\n",
    "with open(fileName, \"w\") as f:\n",
    "    for line in lines:\n",
    "        f.write(line)\n"
   ]
  },
  {
   "cell_type": "code",
   "execution_count": 99,
   "id": "95880f48",
   "metadata": {},
   "outputs": [
    {
     "name": "stdout",
     "output_type": "stream",
     "text": [
      "{'symbol': 'ETHUSDT', 'initialMargin': '0', 'maintMargin': '0', 'unrealizedProfit': '0.00000000', 'positionInitialMargin': '0', 'openOrderInitialMargin': '0', 'leverage': '10', 'isolated': True, 'entryPrice': '0.0', 'maxNotional': '4000000', 'positionSide': 'BOTH', 'positionAmt': '0.000', 'notional': '0', 'isolatedWallet': '0', 'updateTime': '1634491502625'}\n",
      "False\n",
      "0.0\n"
     ]
    }
   ],
   "source": [
    "# 현재 포지션 확인\n",
    "balance = binance.fetch_balance()\n",
    "position = [x for x in balance['info']['positions'] if x['symbol'] == \"ETHUSDT\"][0]\n",
    "print(position)\n",
    "print(float(position[\"positionAmt\"]) > 0)\n",
    "print(position[\"entryPrice\"])"
   ]
  },
  {
   "cell_type": "code",
   "execution_count": 101,
   "id": "37c26510",
   "metadata": {},
   "outputs": [
    {
     "data": {
      "text/plain": [
       "0.0"
      ]
     },
     "execution_count": 101,
     "metadata": {},
     "output_type": "execute_result"
    }
   ],
   "source": [
    "balance = binance.fetch_balance()\n",
    "entryPrice = float([x for x in balance['info']['positions'] if x['symbol'] == \"ETHUSDT\"][0][\"entryPrice\"])\n",
    "entryPrice"
   ]
  },
  {
   "cell_type": "code",
   "execution_count": 104,
   "id": "5a118d86",
   "metadata": {},
   "outputs": [
    {
     "data": {
      "text/plain": [
       "0.0"
      ]
     },
     "execution_count": 104,
     "metadata": {},
     "output_type": "execute_result"
    }
   ],
   "source": [
    "\n",
    "balance = binance.fetch_balance()\n",
    "float([x for x in balance['info']['positions'] if x['symbol'] == \"ETHUSDT\"][0][\"positionAmt\"])"
   ]
  },
  {
   "cell_type": "code",
   "execution_count": 83,
   "id": "ea8c81e8",
   "metadata": {},
   "outputs": [
    {
     "data": {
      "text/plain": [
       "{}"
      ]
     },
     "execution_count": 83,
     "metadata": {},
     "output_type": "execute_result"
    }
   ],
   "source": [
    "binance.trades"
   ]
  },
  {
   "cell_type": "code",
   "execution_count": 79,
   "id": "27021964",
   "metadata": {},
   "outputs": [
    {
     "data": {
      "text/plain": [
       "datetime.datetime(2021, 10, 20, 2, 22, 47, 919297)"
      ]
     },
     "execution_count": 79,
     "metadata": {},
     "output_type": "execute_result"
    }
   ],
   "source": [
    "datetime.now()"
   ]
  },
  {
   "cell_type": "code",
   "execution_count": null,
   "id": "68231ae2",
   "metadata": {},
   "outputs": [],
   "source": []
  },
  {
   "cell_type": "code",
   "execution_count": 60,
   "id": "613121f0",
   "metadata": {},
   "outputs": [
    {
     "name": "stdout",
     "output_type": "stream",
     "text": [
      "3858.33\n"
     ]
    },
    {
     "data": {
      "text/plain": [
       "{'info': {'orderId': '8389765509101346200',\n",
       "  'symbol': 'ETHUSDT',\n",
       "  'status': 'NEW',\n",
       "  'clientOrderId': 'x-xcKtGhcu41680a6da6274810a76ddb',\n",
       "  'price': '3858.33',\n",
       "  'avgPrice': '0.00000',\n",
       "  'origQty': '0.002',\n",
       "  'executedQty': '0',\n",
       "  'cumQty': '0',\n",
       "  'cumQuote': '0',\n",
       "  'timeInForce': 'GTC',\n",
       "  'type': 'LIMIT',\n",
       "  'reduceOnly': False,\n",
       "  'closePosition': False,\n",
       "  'side': 'SELL',\n",
       "  'positionSide': 'BOTH',\n",
       "  'stopPrice': '0',\n",
       "  'workingType': 'CONTRACT_PRICE',\n",
       "  'priceProtect': False,\n",
       "  'origType': 'LIMIT',\n",
       "  'updateTime': '1634483299501'},\n",
       " 'id': '8389765509101346200',\n",
       " 'clientOrderId': 'x-xcKtGhcu41680a6da6274810a76ddb',\n",
       " 'timestamp': 1634483299501,\n",
       " 'datetime': '2021-10-17T15:08:19.501Z',\n",
       " 'lastTradeTimestamp': None,\n",
       " 'symbol': 'ETH/USDT',\n",
       " 'type': 'limit',\n",
       " 'timeInForce': 'GTC',\n",
       " 'postOnly': False,\n",
       " 'side': 'sell',\n",
       " 'price': 3858.33,\n",
       " 'stopPrice': None,\n",
       " 'amount': 0.002,\n",
       " 'cost': 0.0,\n",
       " 'average': None,\n",
       " 'filled': 0.0,\n",
       " 'remaining': 0.002,\n",
       " 'status': 'open',\n",
       " 'fee': None,\n",
       " 'trades': [],\n",
       " 'fees': []}"
      ]
     },
     "execution_count": 60,
     "metadata": {},
     "output_type": "execute_result"
    }
   ],
   "source": [
    "# 현재 포지션 2퍼 위에 매도 예약\n",
    "# targetPrice = round(float(position[\"entryPrice\"]) * 1.0022, 2)\n",
    "# print(targetPrice)\n",
    "# binance.create_limit_sell_order(\n",
    "#     symbol = 'ETH/USDT',\n",
    "#     amount = 0.002,\n",
    "#     price = targetPrice\n",
    "# )"
   ]
  },
  {
   "cell_type": "code",
   "execution_count": 58,
   "id": "a1121aaa",
   "metadata": {},
   "outputs": [
    {
     "name": "stdout",
     "output_type": "stream",
     "text": [
      "[{'amount': 0.002,\n",
      "  'average': None,\n",
      "  'clientOrderId': 'x-xcKtGhcuc3764ad988599b9c5d64a3',\n",
      "  'cost': 0.0,\n",
      "  'datetime': '2021-10-17T15:07:53.478Z',\n",
      "  'fee': None,\n",
      "  'fees': [],\n",
      "  'filled': 0.0,\n",
      "  'id': '8389765509101328129',\n",
      "  'info': {'avgPrice': '0',\n",
      "           'clientOrderId': 'x-xcKtGhcuc3764ad988599b9c5d64a3',\n",
      "           'closePosition': False,\n",
      "           'cumQuote': '0',\n",
      "           'executedQty': '0',\n",
      "           'orderId': '8389765509101328129',\n",
      "           'origQty': '0.002',\n",
      "           'origType': 'LIMIT',\n",
      "           'positionSide': 'BOTH',\n",
      "           'price': '3858.33',\n",
      "           'priceProtect': False,\n",
      "           'reduceOnly': False,\n",
      "           'side': 'SELL',\n",
      "           'status': 'NEW',\n",
      "           'stopPrice': '0',\n",
      "           'symbol': 'ETHUSDT',\n",
      "           'time': '1634483273478',\n",
      "           'timeInForce': 'GTC',\n",
      "           'type': 'LIMIT',\n",
      "           'updateTime': '1634483273478',\n",
      "           'workingType': 'CONTRACT_PRICE'},\n",
      "  'lastTradeTimestamp': None,\n",
      "  'postOnly': False,\n",
      "  'price': 3858.33,\n",
      "  'remaining': 0.002,\n",
      "  'side': 'sell',\n",
      "  'status': 'open',\n",
      "  'stopPrice': None,\n",
      "  'symbol': 'ETH/USDT',\n",
      "  'timeInForce': 'GTC',\n",
      "  'timestamp': 1634483273478,\n",
      "  'trades': [],\n",
      "  'type': 'limit'}]\n"
     ]
    }
   ],
   "source": [
    "# 대기 주문 조회\n",
    "open_orders = binance.fetch_open_orders(\n",
    "    symbol=\"ETH/USDT\"\n",
    ")\n",
    "pprint.pprint(open_orders)"
   ]
  },
  {
   "cell_type": "code",
   "execution_count": 59,
   "id": "86648491",
   "metadata": {},
   "outputs": [
    {
     "data": {
      "text/plain": [
       "{'code': '200', 'msg': 'The operation of cancel all open order is done.'}"
      ]
     },
     "execution_count": 59,
     "metadata": {},
     "output_type": "execute_result"
    }
   ],
   "source": [
    "# 모든 대기 주문 취소\n",
    "binance.cancel_all_orders(symbol = \"ETH/USDT\")"
   ]
  },
  {
   "cell_type": "code",
   "execution_count": 98,
   "id": "355eae97",
   "metadata": {},
   "outputs": [
    {
     "name": "stdout",
     "output_type": "stream",
     "text": [
      "이전 봉에 구매 이력 있어서 스킵\n",
      "1634664650.381064\n"
     ]
    },
    {
     "data": {
      "text/plain": [
       "[[1634663700000, 3821.2, 3823.57, 3812.44, 3813.35, 10643.144],\n",
       " [1634664600000, 3813.35, 3814.0, 3808.63, 3809.93, 1806.216]]"
      ]
     },
     "execution_count": 98,
     "metadata": {},
     "output_type": "execute_result"
    }
   ],
   "source": [
    "# 물타기\n",
    "fileName = getTodayDate() + \".txt\"\n",
    "with open(fileName) as f:\n",
    "    lines = f.readlines()\n",
    "eth15m = binance.fetch_ohlcv(\n",
    "    symbol=\"ETH/USDT\",\n",
    "    timeframe='15m',\n",
    "    since=None,\n",
    "    limit=2)\n",
    "candle = eth15m[0]\n",
    "if int(lines[-1].split()[0]) > candle[0]:\n",
    "    print(\"이전 봉에 구매 이력 있어서 물타기 스킵\")\n",
    "else:\n",
    "    if candle[4] - candle[1] < -3:\n",
    "        print(\"물타기 하기~\")\n",
    "        water()\n",
    "    else:\n",
    "        print(\"이번 봉은 음봉이 아니라 물타기 스킵\")\n",
    "eth15m[0]\n",
    "print(time.time())\n",
    "eth15m"
   ]
  },
  {
   "cell_type": "code",
   "execution_count": null,
   "id": "51ffec54",
   "metadata": {},
   "outputs": [],
   "source": []
  }
 ],
 "metadata": {
  "kernelspec": {
   "display_name": "Python 3",
   "language": "python",
   "name": "python3"
  },
  "language_info": {
   "codemirror_mode": {
    "name": "ipython",
    "version": 3
   },
   "file_extension": ".py",
   "mimetype": "text/x-python",
   "name": "python",
   "nbconvert_exporter": "python",
   "pygments_lexer": "ipython3",
   "version": "3.8.8"
  }
 },
 "nbformat": 4,
 "nbformat_minor": 5
}
